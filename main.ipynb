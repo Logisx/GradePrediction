{
 "cells": [
  {
   "cell_type": "code",
   "execution_count": 10,
   "metadata": {},
   "outputs": [],
   "source": [
    "import pandas as pd\n",
    "import numpy as np\n",
    "import sklearn\n",
    "import statistics"
   ]
  },
  {
   "cell_type": "code",
   "execution_count": 11,
   "metadata": {},
   "outputs": [],
   "source": [
    "from sklearn.model_selection import train_test_split"
   ]
  },
  {
   "attachments": {},
   "cell_type": "markdown",
   "metadata": {},
   "source": [
    "**Dividing training and testing data**"
   ]
  },
  {
   "cell_type": "code",
   "execution_count": 12,
   "metadata": {},
   "outputs": [],
   "source": [
    "InitialData = pd.read_csv('student-mat.csv')"
   ]
  },
  {
   "cell_type": "code",
   "execution_count": 13,
   "metadata": {},
   "outputs": [
    {
     "name": "stdout",
     "output_type": "stream",
     "text": [
      "345\n",
      "50\n"
     ]
    }
   ],
   "source": [
    "Y_Initial = InitialData['G3']\n",
    "X_Initial = InitialData.loc[:, InitialData.columns != 'G3']\n",
    "\n",
    "X_Initial_train, X_Initial_test, y_Initial_train, y_Initial_test = train_test_split(X_Initial, Y_Initial, test_size=50, random_state=0)\n",
    "\n",
    "print(len(X_Initial_train))\n",
    "print(len(X_Initial_test))"
   ]
  },
  {
   "cell_type": "code",
   "execution_count": 14,
   "metadata": {},
   "outputs": [],
   "source": [
    "InitialData = InitialData[InitialData['G3'] != 0]\n",
    "X = InitialData.drop(columns=['G3'])\n",
    "Y = InitialData['G3']\n",
    "X_Initial_train, X_Initial_test, y_Initial_train, y_Initial_test = train_test_split(X, Y, test_size=50, random_state=0)"
   ]
  },
  {
   "cell_type": "code",
   "execution_count": 15,
   "metadata": {},
   "outputs": [
    {
     "name": "stdout",
     "output_type": "stream",
     "text": [
      "307\n",
      "50\n"
     ]
    }
   ],
   "source": [
    "print(len(X_Initial_train))\n",
    "print(len(X_Initial_test))"
   ]
  },
  {
   "attachments": {},
   "cell_type": "markdown",
   "metadata": {},
   "source": [
    "**Data analysis**"
   ]
  },
  {
   "cell_type": "code",
   "execution_count": 16,
   "metadata": {},
   "outputs": [
    {
     "name": "stderr",
     "output_type": "stream",
     "text": [
      "C:\\Users\\logis\\AppData\\Local\\Temp\\ipykernel_16216\\2700433409.py:5: FutureWarning: The default value of numeric_only in DataFrame.corr is deprecated. In a future version, it will default to False. Select only valid columns or specify the value of numeric_only to silence this warning.\n",
      "  X_Y_correlation.corr()\n"
     ]
    },
    {
     "data": {
      "text/html": [
       "<div>\n",
       "<style scoped>\n",
       "    .dataframe tbody tr th:only-of-type {\n",
       "        vertical-align: middle;\n",
       "    }\n",
       "\n",
       "    .dataframe tbody tr th {\n",
       "        vertical-align: top;\n",
       "    }\n",
       "\n",
       "    .dataframe thead th {\n",
       "        text-align: right;\n",
       "    }\n",
       "</style>\n",
       "<table border=\"1\" class=\"dataframe\">\n",
       "  <thead>\n",
       "    <tr style=\"text-align: right;\">\n",
       "      <th></th>\n",
       "      <th>age</th>\n",
       "      <th>Medu</th>\n",
       "      <th>Fedu</th>\n",
       "      <th>traveltime</th>\n",
       "      <th>studytime</th>\n",
       "      <th>failures</th>\n",
       "      <th>famrel</th>\n",
       "      <th>freetime</th>\n",
       "      <th>goout</th>\n",
       "      <th>health</th>\n",
       "      <th>absences</th>\n",
       "      <th>G1</th>\n",
       "      <th>y</th>\n",
       "    </tr>\n",
       "  </thead>\n",
       "  <tbody>\n",
       "    <tr>\n",
       "      <th>age</th>\n",
       "      <td>1.000000</td>\n",
       "      <td>-0.143667</td>\n",
       "      <td>-0.152028</td>\n",
       "      <td>0.124947</td>\n",
       "      <td>-0.012044</td>\n",
       "      <td>0.265867</td>\n",
       "      <td>0.105719</td>\n",
       "      <td>0.018381</td>\n",
       "      <td>0.127471</td>\n",
       "      <td>-0.066960</td>\n",
       "      <td>0.232719</td>\n",
       "      <td>-0.058061</td>\n",
       "      <td>-0.163554</td>\n",
       "    </tr>\n",
       "    <tr>\n",
       "      <th>Medu</th>\n",
       "      <td>-0.143667</td>\n",
       "      <td>1.000000</td>\n",
       "      <td>0.622469</td>\n",
       "      <td>-0.189125</td>\n",
       "      <td>0.059405</td>\n",
       "      <td>-0.217911</td>\n",
       "      <td>-0.005481</td>\n",
       "      <td>-0.021037</td>\n",
       "      <td>0.080858</td>\n",
       "      <td>-0.030022</td>\n",
       "      <td>0.052977</td>\n",
       "      <td>0.180870</td>\n",
       "      <td>0.205427</td>\n",
       "    </tr>\n",
       "    <tr>\n",
       "      <th>Fedu</th>\n",
       "      <td>-0.152028</td>\n",
       "      <td>0.622469</td>\n",
       "      <td>1.000000</td>\n",
       "      <td>-0.194381</td>\n",
       "      <td>-0.031392</td>\n",
       "      <td>-0.265805</td>\n",
       "      <td>-0.031753</td>\n",
       "      <td>-0.054498</td>\n",
       "      <td>0.029325</td>\n",
       "      <td>-0.007715</td>\n",
       "      <td>-0.015996</td>\n",
       "      <td>0.160996</td>\n",
       "      <td>0.150231</td>\n",
       "    </tr>\n",
       "    <tr>\n",
       "      <th>traveltime</th>\n",
       "      <td>0.124947</td>\n",
       "      <td>-0.189125</td>\n",
       "      <td>-0.194381</td>\n",
       "      <td>1.000000</td>\n",
       "      <td>-0.105084</td>\n",
       "      <td>0.131414</td>\n",
       "      <td>-0.002823</td>\n",
       "      <td>-0.007708</td>\n",
       "      <td>0.062239</td>\n",
       "      <td>0.016959</td>\n",
       "      <td>0.028547</td>\n",
       "      <td>-0.119743</td>\n",
       "      <td>-0.131757</td>\n",
       "    </tr>\n",
       "    <tr>\n",
       "      <th>studytime</th>\n",
       "      <td>-0.012044</td>\n",
       "      <td>0.059405</td>\n",
       "      <td>-0.031392</td>\n",
       "      <td>-0.105084</td>\n",
       "      <td>1.000000</td>\n",
       "      <td>-0.136720</td>\n",
       "      <td>0.063829</td>\n",
       "      <td>-0.132218</td>\n",
       "      <td>-0.018720</td>\n",
       "      <td>-0.087165</td>\n",
       "      <td>-0.098216</td>\n",
       "      <td>0.156326</td>\n",
       "      <td>0.158553</td>\n",
       "    </tr>\n",
       "    <tr>\n",
       "      <th>failures</th>\n",
       "      <td>0.265867</td>\n",
       "      <td>-0.217911</td>\n",
       "      <td>-0.265805</td>\n",
       "      <td>0.131414</td>\n",
       "      <td>-0.136720</td>\n",
       "      <td>1.000000</td>\n",
       "      <td>-0.020901</td>\n",
       "      <td>0.133293</td>\n",
       "      <td>0.195804</td>\n",
       "      <td>0.042964</td>\n",
       "      <td>0.161519</td>\n",
       "      <td>-0.326272</td>\n",
       "      <td>-0.311091</td>\n",
       "    </tr>\n",
       "    <tr>\n",
       "      <th>famrel</th>\n",
       "      <td>0.105719</td>\n",
       "      <td>-0.005481</td>\n",
       "      <td>-0.031753</td>\n",
       "      <td>-0.002823</td>\n",
       "      <td>0.063829</td>\n",
       "      <td>-0.020901</td>\n",
       "      <td>1.000000</td>\n",
       "      <td>0.183048</td>\n",
       "      <td>0.068130</td>\n",
       "      <td>0.140506</td>\n",
       "      <td>-0.073748</td>\n",
       "      <td>0.052678</td>\n",
       "      <td>0.075401</td>\n",
       "    </tr>\n",
       "    <tr>\n",
       "      <th>freetime</th>\n",
       "      <td>0.018381</td>\n",
       "      <td>-0.021037</td>\n",
       "      <td>-0.054498</td>\n",
       "      <td>-0.007708</td>\n",
       "      <td>-0.132218</td>\n",
       "      <td>0.133293</td>\n",
       "      <td>0.183048</td>\n",
       "      <td>1.000000</td>\n",
       "      <td>0.255339</td>\n",
       "      <td>0.086641</td>\n",
       "      <td>-0.074686</td>\n",
       "      <td>-0.023542</td>\n",
       "      <td>-0.051553</td>\n",
       "    </tr>\n",
       "    <tr>\n",
       "      <th>goout</th>\n",
       "      <td>0.127471</td>\n",
       "      <td>0.080858</td>\n",
       "      <td>0.029325</td>\n",
       "      <td>0.062239</td>\n",
       "      <td>-0.018720</td>\n",
       "      <td>0.195804</td>\n",
       "      <td>0.068130</td>\n",
       "      <td>0.255339</td>\n",
       "      <td>1.000000</td>\n",
       "      <td>-0.061314</td>\n",
       "      <td>0.057467</td>\n",
       "      <td>-0.170340</td>\n",
       "      <td>-0.196119</td>\n",
       "    </tr>\n",
       "    <tr>\n",
       "      <th>health</th>\n",
       "      <td>-0.066960</td>\n",
       "      <td>-0.030022</td>\n",
       "      <td>-0.007715</td>\n",
       "      <td>0.016959</td>\n",
       "      <td>-0.087165</td>\n",
       "      <td>0.042964</td>\n",
       "      <td>0.140506</td>\n",
       "      <td>0.086641</td>\n",
       "      <td>-0.061314</td>\n",
       "      <td>1.000000</td>\n",
       "      <td>-0.057903</td>\n",
       "      <td>-0.074392</td>\n",
       "      <td>-0.071237</td>\n",
       "    </tr>\n",
       "    <tr>\n",
       "      <th>absences</th>\n",
       "      <td>0.232719</td>\n",
       "      <td>0.052977</td>\n",
       "      <td>-0.015996</td>\n",
       "      <td>0.028547</td>\n",
       "      <td>-0.098216</td>\n",
       "      <td>0.161519</td>\n",
       "      <td>-0.073748</td>\n",
       "      <td>-0.074686</td>\n",
       "      <td>0.057467</td>\n",
       "      <td>-0.057903</td>\n",
       "      <td>1.000000</td>\n",
       "      <td>-0.141382</td>\n",
       "      <td>-0.229859</td>\n",
       "    </tr>\n",
       "    <tr>\n",
       "      <th>G1</th>\n",
       "      <td>-0.058061</td>\n",
       "      <td>0.180870</td>\n",
       "      <td>0.160996</td>\n",
       "      <td>-0.119743</td>\n",
       "      <td>0.156326</td>\n",
       "      <td>-0.326272</td>\n",
       "      <td>0.052678</td>\n",
       "      <td>-0.023542</td>\n",
       "      <td>-0.170340</td>\n",
       "      <td>-0.074392</td>\n",
       "      <td>-0.141382</td>\n",
       "      <td>1.000000</td>\n",
       "      <td>0.896589</td>\n",
       "    </tr>\n",
       "    <tr>\n",
       "      <th>y</th>\n",
       "      <td>-0.163554</td>\n",
       "      <td>0.205427</td>\n",
       "      <td>0.150231</td>\n",
       "      <td>-0.131757</td>\n",
       "      <td>0.158553</td>\n",
       "      <td>-0.311091</td>\n",
       "      <td>0.075401</td>\n",
       "      <td>-0.051553</td>\n",
       "      <td>-0.196119</td>\n",
       "      <td>-0.071237</td>\n",
       "      <td>-0.229859</td>\n",
       "      <td>0.896589</td>\n",
       "      <td>1.000000</td>\n",
       "    </tr>\n",
       "  </tbody>\n",
       "</table>\n",
       "</div>"
      ],
      "text/plain": [
       "                 age      Medu      Fedu  traveltime  studytime  failures  \\\n",
       "age         1.000000 -0.143667 -0.152028    0.124947  -0.012044  0.265867   \n",
       "Medu       -0.143667  1.000000  0.622469   -0.189125   0.059405 -0.217911   \n",
       "Fedu       -0.152028  0.622469  1.000000   -0.194381  -0.031392 -0.265805   \n",
       "traveltime  0.124947 -0.189125 -0.194381    1.000000  -0.105084  0.131414   \n",
       "studytime  -0.012044  0.059405 -0.031392   -0.105084   1.000000 -0.136720   \n",
       "failures    0.265867 -0.217911 -0.265805    0.131414  -0.136720  1.000000   \n",
       "famrel      0.105719 -0.005481 -0.031753   -0.002823   0.063829 -0.020901   \n",
       "freetime    0.018381 -0.021037 -0.054498   -0.007708  -0.132218  0.133293   \n",
       "goout       0.127471  0.080858  0.029325    0.062239  -0.018720  0.195804   \n",
       "health     -0.066960 -0.030022 -0.007715    0.016959  -0.087165  0.042964   \n",
       "absences    0.232719  0.052977 -0.015996    0.028547  -0.098216  0.161519   \n",
       "G1         -0.058061  0.180870  0.160996   -0.119743   0.156326 -0.326272   \n",
       "y          -0.163554  0.205427  0.150231   -0.131757   0.158553 -0.311091   \n",
       "\n",
       "              famrel  freetime     goout    health  absences        G1  \\\n",
       "age         0.105719  0.018381  0.127471 -0.066960  0.232719 -0.058061   \n",
       "Medu       -0.005481 -0.021037  0.080858 -0.030022  0.052977  0.180870   \n",
       "Fedu       -0.031753 -0.054498  0.029325 -0.007715 -0.015996  0.160996   \n",
       "traveltime -0.002823 -0.007708  0.062239  0.016959  0.028547 -0.119743   \n",
       "studytime   0.063829 -0.132218 -0.018720 -0.087165 -0.098216  0.156326   \n",
       "failures   -0.020901  0.133293  0.195804  0.042964  0.161519 -0.326272   \n",
       "famrel      1.000000  0.183048  0.068130  0.140506 -0.073748  0.052678   \n",
       "freetime    0.183048  1.000000  0.255339  0.086641 -0.074686 -0.023542   \n",
       "goout       0.068130  0.255339  1.000000 -0.061314  0.057467 -0.170340   \n",
       "health      0.140506  0.086641 -0.061314  1.000000 -0.057903 -0.074392   \n",
       "absences   -0.073748 -0.074686  0.057467 -0.057903  1.000000 -0.141382   \n",
       "G1          0.052678 -0.023542 -0.170340 -0.074392 -0.141382  1.000000   \n",
       "y           0.075401 -0.051553 -0.196119 -0.071237 -0.229859  0.896589   \n",
       "\n",
       "                   y  \n",
       "age        -0.163554  \n",
       "Medu        0.205427  \n",
       "Fedu        0.150231  \n",
       "traveltime -0.131757  \n",
       "studytime   0.158553  \n",
       "failures   -0.311091  \n",
       "famrel      0.075401  \n",
       "freetime   -0.051553  \n",
       "goout      -0.196119  \n",
       "health     -0.071237  \n",
       "absences   -0.229859  \n",
       "G1          0.896589  \n",
       "y           1.000000  "
      ]
     },
     "execution_count": 16,
     "metadata": {},
     "output_type": "execute_result"
    }
   ],
   "source": [
    "X_Y_correlation = X_Initial_train.copy(deep=True)\n",
    "\n",
    "X_Y_correlation['y'] = y_Initial_train\n",
    "\n",
    "X_Y_correlation.corr()"
   ]
  },
  {
   "cell_type": "code",
   "execution_count": 17,
   "metadata": {},
   "outputs": [],
   "source": [
    "data = X_Initial_train[['age', 'traveltime', 'G1', 'studytime', 'Medu', 'Fedu', 'failures', 'Mjob', 'Fjob', 'schoolsup', 'higher']].copy()\n",
    "data['G3'] = y_Initial_train\n",
    "interesting_categorical_factors = ['Mjob', 'Fjob', 'schoolsup', 'higher']"
   ]
  },
  {
   "attachments": {},
   "cell_type": "markdown",
   "metadata": {},
   "source": [
    "**Encoding categorial factors**"
   ]
  },
  {
   "cell_type": "code",
   "execution_count": 18,
   "metadata": {},
   "outputs": [],
   "source": [
    "from category_encoders.target_encoder import TargetEncoder"
   ]
  },
  {
   "cell_type": "code",
   "execution_count": 19,
   "metadata": {},
   "outputs": [
    {
     "name": "stdout",
     "output_type": "stream",
     "text": [
      "     age  traveltime  G1  studytime  Medu  Fedu  failures  G3  Mjob_encoded  \\\n",
      "295   17           1  14          1     3     3         0  11     12.781907   \n",
      "224   16           1  13          3     4     4         0  14     11.734708   \n",
      "197   16           3   9          1     3     3         0  10     11.734708   \n",
      "231   17           2  11          2     2     2         0  11     10.963057   \n",
      "7     17           2   6          2     4     4         0   6     10.963057   \n",
      "..   ...         ...  ..        ...   ...   ...       ...  ..           ...   \n",
      "357   17           2  12          2     3     2         0  11     12.251790   \n",
      "210   19           1   8          4     3     3         0   8     10.963057   \n",
      "117   16           2  13          1     3     3         0  13     10.963057   \n",
      "47    16           1  19          4     4     3         0  20     12.781907   \n",
      "190   16           1  11          2     2     3         0  13     12.251790   \n",
      "\n",
      "     Fjob_encoded  schoolsup_encoded  higher_encoded  \n",
      "295     11.339181          11.835821       11.657627  \n",
      "224     11.476373          11.835821       11.657627  \n",
      "197     11.339181          11.835821       11.657627  \n",
      "231     11.339181          11.835821       11.657627  \n",
      "7       12.723082          10.094869       11.657627  \n",
      "..            ...                ...             ...  \n",
      "357     11.339181          11.835821       11.657627  \n",
      "210     11.339181          11.835821       11.657627  \n",
      "117     11.476373          11.835821       11.657627  \n",
      "47      11.476373          11.835821       11.657627  \n",
      "190     11.476373          11.835821       11.657627  \n",
      "\n",
      "[307 rows x 12 columns]\n"
     ]
    }
   ],
   "source": [
    "for categor_factor in interesting_categorical_factors:\n",
    "    encode = TargetEncoder()\n",
    "    encode.fit(data[categor_factor], data[\"G3\"])\n",
    "    s = categor_factor + \"_encoded\"\n",
    "    data[s] = encode.transform(data[categor_factor])\n",
    "\n",
    "data = data.drop(['Mjob', 'Fjob', 'schoolsup', 'higher'], axis='columns')\n",
    "\n",
    "print(data)"
   ]
  },
  {
   "attachments": {},
   "cell_type": "markdown",
   "metadata": {},
   "source": [
    "**Scaling data**"
   ]
  },
  {
   "cell_type": "code",
   "execution_count": 20,
   "metadata": {},
   "outputs": [],
   "source": [
    "from sklearn.preprocessing import MinMaxScaler"
   ]
  },
  {
   "cell_type": "code",
   "execution_count": 21,
   "metadata": {},
   "outputs": [],
   "source": [
    "scaler = MinMaxScaler()"
   ]
  },
  {
   "cell_type": "code",
   "execution_count": 22,
   "metadata": {},
   "outputs": [
    {
     "data": {
      "text/html": [
       "<style>#sk-container-id-1 {color: black;background-color: white;}#sk-container-id-1 pre{padding: 0;}#sk-container-id-1 div.sk-toggleable {background-color: white;}#sk-container-id-1 label.sk-toggleable__label {cursor: pointer;display: block;width: 100%;margin-bottom: 0;padding: 0.3em;box-sizing: border-box;text-align: center;}#sk-container-id-1 label.sk-toggleable__label-arrow:before {content: \"▸\";float: left;margin-right: 0.25em;color: #696969;}#sk-container-id-1 label.sk-toggleable__label-arrow:hover:before {color: black;}#sk-container-id-1 div.sk-estimator:hover label.sk-toggleable__label-arrow:before {color: black;}#sk-container-id-1 div.sk-toggleable__content {max-height: 0;max-width: 0;overflow: hidden;text-align: left;background-color: #f0f8ff;}#sk-container-id-1 div.sk-toggleable__content pre {margin: 0.2em;color: black;border-radius: 0.25em;background-color: #f0f8ff;}#sk-container-id-1 input.sk-toggleable__control:checked~div.sk-toggleable__content {max-height: 200px;max-width: 100%;overflow: auto;}#sk-container-id-1 input.sk-toggleable__control:checked~label.sk-toggleable__label-arrow:before {content: \"▾\";}#sk-container-id-1 div.sk-estimator input.sk-toggleable__control:checked~label.sk-toggleable__label {background-color: #d4ebff;}#sk-container-id-1 div.sk-label input.sk-toggleable__control:checked~label.sk-toggleable__label {background-color: #d4ebff;}#sk-container-id-1 input.sk-hidden--visually {border: 0;clip: rect(1px 1px 1px 1px);clip: rect(1px, 1px, 1px, 1px);height: 1px;margin: -1px;overflow: hidden;padding: 0;position: absolute;width: 1px;}#sk-container-id-1 div.sk-estimator {font-family: monospace;background-color: #f0f8ff;border: 1px dotted black;border-radius: 0.25em;box-sizing: border-box;margin-bottom: 0.5em;}#sk-container-id-1 div.sk-estimator:hover {background-color: #d4ebff;}#sk-container-id-1 div.sk-parallel-item::after {content: \"\";width: 100%;border-bottom: 1px solid gray;flex-grow: 1;}#sk-container-id-1 div.sk-label:hover label.sk-toggleable__label {background-color: #d4ebff;}#sk-container-id-1 div.sk-serial::before {content: \"\";position: absolute;border-left: 1px solid gray;box-sizing: border-box;top: 0;bottom: 0;left: 50%;z-index: 0;}#sk-container-id-1 div.sk-serial {display: flex;flex-direction: column;align-items: center;background-color: white;padding-right: 0.2em;padding-left: 0.2em;position: relative;}#sk-container-id-1 div.sk-item {position: relative;z-index: 1;}#sk-container-id-1 div.sk-parallel {display: flex;align-items: stretch;justify-content: center;background-color: white;position: relative;}#sk-container-id-1 div.sk-item::before, #sk-container-id-1 div.sk-parallel-item::before {content: \"\";position: absolute;border-left: 1px solid gray;box-sizing: border-box;top: 0;bottom: 0;left: 50%;z-index: -1;}#sk-container-id-1 div.sk-parallel-item {display: flex;flex-direction: column;z-index: 1;position: relative;background-color: white;}#sk-container-id-1 div.sk-parallel-item:first-child::after {align-self: flex-end;width: 50%;}#sk-container-id-1 div.sk-parallel-item:last-child::after {align-self: flex-start;width: 50%;}#sk-container-id-1 div.sk-parallel-item:only-child::after {width: 0;}#sk-container-id-1 div.sk-dashed-wrapped {border: 1px dashed gray;margin: 0 0.4em 0.5em 0.4em;box-sizing: border-box;padding-bottom: 0.4em;background-color: white;}#sk-container-id-1 div.sk-label label {font-family: monospace;font-weight: bold;display: inline-block;line-height: 1.2em;}#sk-container-id-1 div.sk-label-container {text-align: center;}#sk-container-id-1 div.sk-container {/* jupyter's `normalize.less` sets `[hidden] { display: none; }` but bootstrap.min.css set `[hidden] { display: none !important; }` so we also need the `!important` here to be able to override the default hidden behavior on the sphinx rendered scikit-learn.org. See: https://github.com/scikit-learn/scikit-learn/issues/21755 */display: inline-block !important;position: relative;}#sk-container-id-1 div.sk-text-repr-fallback {display: none;}</style><div id=\"sk-container-id-1\" class=\"sk-top-container\"><div class=\"sk-text-repr-fallback\"><pre>MinMaxScaler()</pre><b>In a Jupyter environment, please rerun this cell to show the HTML representation or trust the notebook. <br />On GitHub, the HTML representation is unable to render, please try loading this page with nbviewer.org.</b></div><div class=\"sk-container\" hidden><div class=\"sk-item\"><div class=\"sk-estimator sk-toggleable\"><input class=\"sk-toggleable__control sk-hidden--visually\" id=\"sk-estimator-id-1\" type=\"checkbox\" checked><label for=\"sk-estimator-id-1\" class=\"sk-toggleable__label sk-toggleable__label-arrow\">MinMaxScaler</label><div class=\"sk-toggleable__content\"><pre>MinMaxScaler()</pre></div></div></div></div></div>"
      ],
      "text/plain": [
       "MinMaxScaler()"
      ]
     },
     "execution_count": 22,
     "metadata": {},
     "output_type": "execute_result"
    }
   ],
   "source": [
    "scaler.fit(data)"
   ]
  },
  {
   "cell_type": "code",
   "execution_count": 23,
   "metadata": {},
   "outputs": [],
   "source": [
    "data_scaled = scaler.transform(data)"
   ]
  },
  {
   "cell_type": "code",
   "execution_count": 24,
   "metadata": {},
   "outputs": [],
   "source": [
    "df = pd.DataFrame(data_scaled)"
   ]
  },
  {
   "cell_type": "code",
   "execution_count": 25,
   "metadata": {},
   "outputs": [
    {
     "name": "stdout",
     "output_type": "stream",
     "text": [
      "           0         1       2         3     4     5    6       7         8   \\\n",
      "0    0.285714  0.000000  0.6875  0.000000  0.75  0.75  0.0  0.4375  1.000000   \n",
      "1    0.142857  0.000000  0.6250  0.666667  1.00  1.00  0.0  0.6250  0.498120   \n",
      "2    0.142857  0.666667  0.3750  0.000000  0.75  0.75  0.0  0.3750  0.498120   \n",
      "3    0.285714  0.333333  0.5000  0.333333  0.50  0.50  0.0  0.4375  0.128298   \n",
      "4    0.285714  0.333333  0.1875  0.333333  1.00  1.00  0.0  0.1250  0.128298   \n",
      "..        ...       ...     ...       ...   ...   ...  ...     ...       ...   \n",
      "302  0.285714  0.333333  0.5625  0.333333  0.75  0.50  0.0  0.4375  0.745936   \n",
      "303  0.571429  0.000000  0.3125  1.000000  0.75  0.75  0.0  0.2500  0.128298   \n",
      "304  0.142857  0.333333  0.6250  0.000000  0.75  0.75  0.0  0.5625  0.128298   \n",
      "305  0.142857  0.000000  1.0000  1.000000  1.00  0.75  0.0  1.0000  1.000000   \n",
      "306  0.142857  0.000000  0.5000  0.333333  0.50  0.75  0.0  0.5625  0.745936   \n",
      "\n",
      "           9    10   11  \n",
      "0    0.000000  1.0  1.0  \n",
      "1    0.099134  1.0  1.0  \n",
      "2    0.000000  1.0  1.0  \n",
      "3    0.000000  1.0  1.0  \n",
      "4    1.000000  0.0  1.0  \n",
      "..        ...  ...  ...  \n",
      "302  0.000000  1.0  1.0  \n",
      "303  0.000000  1.0  1.0  \n",
      "304  0.099134  1.0  1.0  \n",
      "305  0.099134  1.0  1.0  \n",
      "306  0.099134  1.0  1.0  \n",
      "\n",
      "[307 rows x 12 columns]\n"
     ]
    }
   ],
   "source": [
    "print(df)"
   ]
  },
  {
   "cell_type": "code",
   "execution_count": 26,
   "metadata": {},
   "outputs": [],
   "source": [
    "X = df.drop([7], axis = 'columns')\n",
    "Y = df[7]"
   ]
  },
  {
   "attachments": {},
   "cell_type": "markdown",
   "metadata": {},
   "source": [
    "**Creating a model**"
   ]
  },
  {
   "cell_type": "code",
   "execution_count": 27,
   "metadata": {},
   "outputs": [],
   "source": [
    "from sklearn.linear_model import LinearRegression"
   ]
  },
  {
   "cell_type": "code",
   "execution_count": 28,
   "metadata": {},
   "outputs": [],
   "source": [
    "model = LinearRegression()"
   ]
  },
  {
   "cell_type": "code",
   "execution_count": 29,
   "metadata": {},
   "outputs": [
    {
     "data": {
      "text/html": [
       "<style>#sk-container-id-2 {color: black;background-color: white;}#sk-container-id-2 pre{padding: 0;}#sk-container-id-2 div.sk-toggleable {background-color: white;}#sk-container-id-2 label.sk-toggleable__label {cursor: pointer;display: block;width: 100%;margin-bottom: 0;padding: 0.3em;box-sizing: border-box;text-align: center;}#sk-container-id-2 label.sk-toggleable__label-arrow:before {content: \"▸\";float: left;margin-right: 0.25em;color: #696969;}#sk-container-id-2 label.sk-toggleable__label-arrow:hover:before {color: black;}#sk-container-id-2 div.sk-estimator:hover label.sk-toggleable__label-arrow:before {color: black;}#sk-container-id-2 div.sk-toggleable__content {max-height: 0;max-width: 0;overflow: hidden;text-align: left;background-color: #f0f8ff;}#sk-container-id-2 div.sk-toggleable__content pre {margin: 0.2em;color: black;border-radius: 0.25em;background-color: #f0f8ff;}#sk-container-id-2 input.sk-toggleable__control:checked~div.sk-toggleable__content {max-height: 200px;max-width: 100%;overflow: auto;}#sk-container-id-2 input.sk-toggleable__control:checked~label.sk-toggleable__label-arrow:before {content: \"▾\";}#sk-container-id-2 div.sk-estimator input.sk-toggleable__control:checked~label.sk-toggleable__label {background-color: #d4ebff;}#sk-container-id-2 div.sk-label input.sk-toggleable__control:checked~label.sk-toggleable__label {background-color: #d4ebff;}#sk-container-id-2 input.sk-hidden--visually {border: 0;clip: rect(1px 1px 1px 1px);clip: rect(1px, 1px, 1px, 1px);height: 1px;margin: -1px;overflow: hidden;padding: 0;position: absolute;width: 1px;}#sk-container-id-2 div.sk-estimator {font-family: monospace;background-color: #f0f8ff;border: 1px dotted black;border-radius: 0.25em;box-sizing: border-box;margin-bottom: 0.5em;}#sk-container-id-2 div.sk-estimator:hover {background-color: #d4ebff;}#sk-container-id-2 div.sk-parallel-item::after {content: \"\";width: 100%;border-bottom: 1px solid gray;flex-grow: 1;}#sk-container-id-2 div.sk-label:hover label.sk-toggleable__label {background-color: #d4ebff;}#sk-container-id-2 div.sk-serial::before {content: \"\";position: absolute;border-left: 1px solid gray;box-sizing: border-box;top: 0;bottom: 0;left: 50%;z-index: 0;}#sk-container-id-2 div.sk-serial {display: flex;flex-direction: column;align-items: center;background-color: white;padding-right: 0.2em;padding-left: 0.2em;position: relative;}#sk-container-id-2 div.sk-item {position: relative;z-index: 1;}#sk-container-id-2 div.sk-parallel {display: flex;align-items: stretch;justify-content: center;background-color: white;position: relative;}#sk-container-id-2 div.sk-item::before, #sk-container-id-2 div.sk-parallel-item::before {content: \"\";position: absolute;border-left: 1px solid gray;box-sizing: border-box;top: 0;bottom: 0;left: 50%;z-index: -1;}#sk-container-id-2 div.sk-parallel-item {display: flex;flex-direction: column;z-index: 1;position: relative;background-color: white;}#sk-container-id-2 div.sk-parallel-item:first-child::after {align-self: flex-end;width: 50%;}#sk-container-id-2 div.sk-parallel-item:last-child::after {align-self: flex-start;width: 50%;}#sk-container-id-2 div.sk-parallel-item:only-child::after {width: 0;}#sk-container-id-2 div.sk-dashed-wrapped {border: 1px dashed gray;margin: 0 0.4em 0.5em 0.4em;box-sizing: border-box;padding-bottom: 0.4em;background-color: white;}#sk-container-id-2 div.sk-label label {font-family: monospace;font-weight: bold;display: inline-block;line-height: 1.2em;}#sk-container-id-2 div.sk-label-container {text-align: center;}#sk-container-id-2 div.sk-container {/* jupyter's `normalize.less` sets `[hidden] { display: none; }` but bootstrap.min.css set `[hidden] { display: none !important; }` so we also need the `!important` here to be able to override the default hidden behavior on the sphinx rendered scikit-learn.org. See: https://github.com/scikit-learn/scikit-learn/issues/21755 */display: inline-block !important;position: relative;}#sk-container-id-2 div.sk-text-repr-fallback {display: none;}</style><div id=\"sk-container-id-2\" class=\"sk-top-container\"><div class=\"sk-text-repr-fallback\"><pre>LinearRegression()</pre><b>In a Jupyter environment, please rerun this cell to show the HTML representation or trust the notebook. <br />On GitHub, the HTML representation is unable to render, please try loading this page with nbviewer.org.</b></div><div class=\"sk-container\" hidden><div class=\"sk-item\"><div class=\"sk-estimator sk-toggleable\"><input class=\"sk-toggleable__control sk-hidden--visually\" id=\"sk-estimator-id-2\" type=\"checkbox\" checked><label for=\"sk-estimator-id-2\" class=\"sk-toggleable__label sk-toggleable__label-arrow\">LinearRegression</label><div class=\"sk-toggleable__content\"><pre>LinearRegression()</pre></div></div></div></div></div>"
      ],
      "text/plain": [
       "LinearRegression()"
      ]
     },
     "execution_count": 29,
     "metadata": {},
     "output_type": "execute_result"
    }
   ],
   "source": [
    "model.fit(X, Y)"
   ]
  },
  {
   "cell_type": "code",
   "execution_count": 30,
   "metadata": {},
   "outputs": [
    {
     "name": "stdout",
     "output_type": "stream",
     "text": [
      "0.8206863785263498\n"
     ]
    }
   ],
   "source": [
    "print(model.score(X, Y))"
   ]
  },
  {
   "cell_type": "code",
   "execution_count": 31,
   "metadata": {},
   "outputs": [
    {
     "name": "stdout",
     "output_type": "stream",
     "text": [
      "<bound method NDFrame._add_numeric_operations.<locals>.mean of 0      0.4375\n",
      "1      0.6250\n",
      "2      0.3750\n",
      "3      0.4375\n",
      "4      0.1250\n",
      "        ...  \n",
      "302    0.4375\n",
      "303    0.2500\n",
      "304    0.5625\n",
      "305    1.0000\n",
      "306    0.5625\n",
      "Name: 7, Length: 307, dtype: float64>\n"
     ]
    }
   ],
   "source": [
    "print(Y.mean)"
   ]
  },
  {
   "cell_type": "markdown",
   "metadata": {},
   "source": [
    "11.586319218241043"
   ]
  },
  {
   "attachments": {},
   "cell_type": "markdown",
   "metadata": {},
   "source": [
    "**Preparing testing data**"
   ]
  },
  {
   "cell_type": "code",
   "execution_count": 32,
   "metadata": {},
   "outputs": [],
   "source": [
    "X_test = X_Initial_test\n",
    "Y_test = y_Initial_test\n"
   ]
  },
  {
   "cell_type": "code",
   "execution_count": 33,
   "metadata": {},
   "outputs": [],
   "source": [
    "data_test = X_Initial_test[['age', 'traveltime', 'G1', 'studytime', 'Medu', 'Fedu', 'failures', 'Mjob', 'Fjob', 'schoolsup', 'higher']].copy()\n",
    "data_test['G3'] = y_Initial_test"
   ]
  },
  {
   "cell_type": "code",
   "execution_count": 34,
   "metadata": {},
   "outputs": [],
   "source": [
    "for categor_factor in interesting_categorical_factors:\n",
    "    encode = TargetEncoder()\n",
    "    encode.fit(data_test[categor_factor], data_test['G3'])\n",
    "    s = categor_factor + \"_encoded\"\n",
    "    data_test[s] = encode.transform(data_test[categor_factor])\n",
    "\n",
    "data_test = data_test.drop(interesting_categorical_factors, axis='columns')\n"
   ]
  },
  {
   "cell_type": "code",
   "execution_count": 35,
   "metadata": {},
   "outputs": [],
   "source": [
    "scaler_test = MinMaxScaler()\n",
    "scaler_test.fit(data_test)\n",
    "data_test_scaled = scaler.transform(data_test)"
   ]
  },
  {
   "cell_type": "code",
   "execution_count": 36,
   "metadata": {},
   "outputs": [],
   "source": [
    "df_test = pd.DataFrame(data_test_scaled)"
   ]
  },
  {
   "cell_type": "code",
   "execution_count": 37,
   "metadata": {},
   "outputs": [],
   "source": [
    "X_test = df_test.drop([7], axis=\"columns\")\n",
    "Y_test = df_test[7]"
   ]
  },
  {
   "cell_type": "markdown",
   "metadata": {},
   "source": [
    "===================================================================================================================================="
   ]
  },
  {
   "cell_type": "code",
   "execution_count": 38,
   "metadata": {},
   "outputs": [],
   "source": [
    "Y_predicted = model.predict(X_test)"
   ]
  },
  {
   "cell_type": "code",
   "execution_count": 39,
   "metadata": {},
   "outputs": [
    {
     "name": "stdout",
     "output_type": "stream",
     "text": [
      "[0.4375 0.375  0.25   0.5    0.25   0.375  0.3125 0.4375 0.6875 0.6875\n",
      " 0.4375 0.4375 0.5625 0.5625 0.4375 0.3125 0.5625 0.5    0.6875 0.4375\n",
      " 0.25   0.6875 0.125  0.4375 0.25   0.625  0.375  0.375  0.625  0.0625\n",
      " 0.25   0.4375 0.375  0.375  0.5625 0.75   0.5    0.125  0.5625 0.9375\n",
      " 0.6875 0.4375 0.6875 0.1875 0.25   0.75   0.25   0.25   0.4375 0.4375]\n"
     ]
    }
   ],
   "source": [
    "print(np.array(Y_test))"
   ]
  },
  {
   "attachments": {},
   "cell_type": "markdown",
   "metadata": {},
   "source": [
    "**Bootstrap**"
   ]
  },
  {
   "cell_type": "code",
   "execution_count": 40,
   "metadata": {},
   "outputs": [],
   "source": [
    "\n",
    "from math import floor\n",
    "from copy import deepcopy\n",
    "import statistics\n",
    "import random"
   ]
  },
  {
   "cell_type": "code",
   "execution_count": 41,
   "metadata": {},
   "outputs": [],
   "source": [
    "class ChoicesNRandom():\n",
    "    \n",
    "    def __init__(self, seed=None, n=1):\n",
    "        import random\n",
    "        \n",
    "        self._random_gen = random.Random(seed)\n",
    "        self._choices_cnt = 0\n",
    "        self._n = n\n",
    "        \n",
    "    def choices(self, *args, **kwargs):\n",
    "            \n",
    "        self._choices_cnt += 1\n",
    "        return self._random_gen.choices(*args, **kwargs)"
   ]
  },
  {
   "cell_type": "code",
   "execution_count": 42,
   "metadata": {},
   "outputs": [],
   "source": [
    "random_gen_example_1 = ChoicesNRandom(0, n=10000)\n",
    "    "
   ]
  },
  {
   "cell_type": "code",
   "execution_count": 43,
   "metadata": {},
   "outputs": [],
   "source": [
    "def round_to_3(x):\n",
    "    return round(x, 3)"
   ]
  },
  {
   "cell_type": "code",
   "execution_count": 44,
   "metadata": {},
   "outputs": [],
   "source": [
    "def cut_on_edges(l, fraction_to_cut):  \n",
    "    to_cut = floor(len(l) * fraction_to_cut)\n",
    "    return l[to_cut:len(l) - to_cut]"
   ]
  },
  {
   "cell_type": "code",
   "execution_count": 45,
   "metadata": {},
   "outputs": [],
   "source": [
    "def bootstrap_confidence_interval_solution(y, y_pred, fraction_to_cut, random_gen):\n",
    "    rnd = random.Random()\n",
    "    zipped = list(zip(y, y_pred))\n",
    "    res =[]\n",
    "    for n in range(10000):\n",
    "        obj = random_gen.choices(zipped, k=len(zipped))\n",
    "        avg = 0\n",
    "        for i in obj:\n",
    "            avg += abs(i[0] - i[1])\n",
    "        avg /= len(obj)\n",
    "        res.append(round_to_3(avg))\n",
    "    \n",
    "    res.sort()\n",
    "    cutted = cut_on_edges(res, fraction_to_cut)\n",
    "    a, b = cutted[0], cutted[-1]\n",
    "    print(a, b)\n",
    "    return a, b\n"
   ]
  },
  {
   "cell_type": "code",
   "execution_count": 46,
   "metadata": {},
   "outputs": [
    {
     "name": "stdout",
     "output_type": "stream",
     "text": [
      "0.067 0.096\n",
      "(0.067, 0.096)\n"
     ]
    }
   ],
   "source": [
    "print(bootstrap_confidence_interval_solution(Y_test, Y_predicted, 0.025, random_gen_example_1))"
   ]
  },
  {
   "cell_type": "code",
   "execution_count": 47,
   "metadata": {},
   "outputs": [
    {
     "name": "stdout",
     "output_type": "stream",
     "text": [
      "0.08175515805952223\n"
     ]
    }
   ],
   "source": [
    "sum = 0\n",
    "for i in range(len(Y_test)):\n",
    "    sum += abs(Y_test[i] - Y_predicted[i])\n",
    "print(sum/len(Y_test))"
   ]
  },
  {
   "attachments": {},
   "cell_type": "markdown",
   "metadata": {},
   "source": [
    "**RESULTS**"
   ]
  },
  {
   "cell_type": "code",
   "execution_count": 48,
   "metadata": {},
   "outputs": [
    {
     "name": "stdout",
     "output_type": "stream",
     "text": [
      "AVERAGE DIFF:  1.66\n",
      "\n",
      "MAX DIFF:  4\n",
      "\n",
      "REAL   PREDICTION\n",
      "9           11\n",
      "8           9\n",
      "5           7\n",
      "10          10\n",
      "5           5\n",
      "8           5\n",
      "6           8\n",
      "9           8\n",
      "14          14\n",
      "14          15\n",
      "9           11\n",
      "9           11\n",
      "11          13\n",
      "11          13\n",
      "9           7\n",
      "6           9\n",
      "11          13\n",
      "10          13\n",
      "14          15\n",
      "9           10\n",
      "5           3\n",
      "14          15\n",
      "2           6\n",
      "9           8\n",
      "5           5\n",
      "12          11\n",
      "8           11\n",
      "8           6\n",
      "12          13\n",
      "1           5\n",
      "5           5\n",
      "9           5\n",
      "8           10\n",
      "8           6\n",
      "11          9\n",
      "15          13\n",
      "10          10\n",
      "2           5\n",
      "11          10\n",
      "19          18\n",
      "14          12\n",
      "9           11\n",
      "14          14\n",
      "4           7\n",
      "5           4\n",
      "15          12\n",
      "5           5\n",
      "5           6\n",
      "9           9\n",
      "9           12\n"
     ]
    }
   ],
   "source": [
    "Y_test_reversed = (list(Y_test))\n",
    "Y_predicted_reversed = [round_to_3(i) for i in Y_predicted]\n",
    "for i in range(len(Y_test_reversed)):\n",
    "    Y_test_reversed[i] =  round(Y_test_reversed[i]* 20)\n",
    "    Y_predicted_reversed[i] = round(Y_predicted_reversed[i]*20)\n",
    "\n",
    "diff = 0\n",
    "for i in range(len(Y_test_reversed)):\n",
    "    diff += abs(Y_test_reversed[i] - Y_predicted_reversed[i])\n",
    "diff = diff / len(Y_test_reversed)\n",
    "print(\"AVERAGE DIFF: \", diff)\n",
    "print()\n",
    "mx = -1\n",
    "for i in range(len(Y_test_reversed)):\n",
    "    mx = max(mx, abs(Y_test_reversed[i] - Y_predicted_reversed[i]))\n",
    "print(\"MAX DIFF: \", mx)\n",
    "print()\n",
    "print(\"REAL   PREDICTION\")\n",
    "for i in range(len(Y_test_reversed)):\n",
    "    if len(str(Y_test_reversed[i])) == 2:\n",
    "        s = \"        \"\n",
    "    else:\n",
    "        s = \"         \"\n",
    "    print(Y_test_reversed[i], s, Y_predicted_reversed[i])\n",
    "\n"
   ]
  }
 ],
 "metadata": {
  "kernelspec": {
   "display_name": "Python 3",
   "language": "python",
   "name": "python3"
  },
  "language_info": {
   "codemirror_mode": {
    "name": "ipython",
    "version": 3
   },
   "file_extension": ".py",
   "mimetype": "text/x-python",
   "name": "python",
   "nbconvert_exporter": "python",
   "pygments_lexer": "ipython3",
   "version": "3.11.1"
  },
  "orig_nbformat": 4,
  "vscode": {
   "interpreter": {
    "hash": "5858ff348fbbd9f42b5eb815130d150be1c4990e0c6f850ca359f17eb489ae48"
   }
  }
 },
 "nbformat": 4,
 "nbformat_minor": 2
}
